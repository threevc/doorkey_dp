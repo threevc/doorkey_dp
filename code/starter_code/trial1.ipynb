{
 "cells": [
  {
   "cell_type": "code",
   "execution_count": 1,
   "metadata": {},
   "outputs": [],
   "source": [
    "import numpy as np\n",
    "import matplotlib.pyplot as plt\n",
    "%matplotlib inline\n",
    "\n",
    "# from .startercode.example import example_use_of_gym_env"
   ]
  },
  {
   "cell_type": "markdown",
   "metadata": {},
   "source": [
    "### What I wanna do\n",
    "See what each environment looks like at the beginning\n",
    "See how I can generate the environemet (or create a motion model, env model)\n",
    "Play with the environment and see what actually happens\n",
    "Develop a cost function\n",
    "Write down a small model of the MDP/DP solving algorithm (either on the actual environement, or on the motion model)\n",
    "Run the DP for one known environment where I can predict the optimal output\n",
    "Run DP for all known environments\n",
    "Create an overloaded state from the random env\n",
    "Run for one random env\n",
    "Run for all"
   ]
  },
  {
   "cell_type": "code",
   "execution_count": 2,
   "metadata": {},
   "outputs": [
    {
     "name": "stdout",
     "output_type": "stream",
     "text": [
      "pygame 2.5.2 (SDL 2.28.2, Python 3.9.19)\n",
      "Hello from the pygame community. https://www.pygame.org/contribute.html\n"
     ]
    }
   ],
   "source": [
    "from example import *\n",
    "from utils import *\n",
    "from doorkey import *\n",
    "from create_env import *\n",
    "from minigrid.core.world_object import Key, Wall,Door, Floor\n"
   ]
  },
  {
   "cell_type": "code",
   "execution_count": 3,
   "metadata": {},
   "outputs": [
    {
     "data": {
      "image/png": "[encoded data removed]",
      "text/plain": [
       "<Figure size 640x480 with 1 Axes>"
      ]
     },
     "metadata": {},
     "output_type": "display_data"
    }
   ],
   "source": [
    "env_path = 'envs/known_envs/doorkey-6x6-shortcut.env'\n",
    "env, info = load_env(env_path)\n",
    "plot_env(env)\n",
    "# trial_sequence = [MF, PK, TR, TR, UD, MF, MF, TL, MF, MF, MF]\n",
    "# total_cost = 0\n",
    "# state = [[1,1]]\n",
    "# if(isinstance(env.unwrapped.carrying, Key)):\n",
    "#     print(1)\n",
    "# else:\n",
    "#     print(0)\n",
    "# # for action in trial_sequence:\n",
    "# action = MF\n",
    "# # step_cost, terminated , (obs, reward, terminated, truncated, info) = step(env, actions[action], state)\n",
    "# step_cost = step(env, action, state, info['goal_pos'])\n",
    "# total_cost += step_cost\n",
    "# # if(isinstance(env.unwrapped.carrying, Key)):\n",
    "# #     print(1)\n",
    "# plot_env(env)\n",
    "# print(total_cost, step_cost, state['terminated'], env.agent_pos ) #, (obs, reward, terminated, truncated, info))\n",
    "\n"
   ]
  },
  {
   "cell_type": "markdown",
   "metadata": {},
   "source": [
    "### How to go about this\n",
    "1. Create a stage cost function - cost = 1 if we are not in goal or 0 if we are in goal\n",
    "2. Create a terminal cost function\n",
    "3. Create a cost function\n",
    "4. Define the state - needs agent pos, dir\n",
    "5. How to define horizon? Not T, because in some world, we want to cover every state (imagine a long corridor where the key is at one end and the goal is at behind a wall) Number of steps ~ 2*num_locs\n"
   ]
  },
  {
   "cell_type": "markdown",
   "metadata": {},
   "source": [
    "### Known\n",
    "\n",
    "I have an environment and I want to create motion model for every state to it's next states\n",
    "\n",
    "f[s][u] = s'\n",
    "This I wil do by reloading the env everytime\n",
    "Once I have the motion model (which is stationary), I can find the V[t][s] for each state by finding the min\n",
    "At the same time I also update pi[t][s]\n",
    "s = tuple(pos, dir, key, dooropen)"
   ]
  },
  {
   "cell_type": "code",
   "execution_count": 4,
   "metadata": {},
   "outputs": [],
   "source": [
    "def make_motion_model(env_name, known = True):\n",
    "    if known:\n",
    "        env_path = 'envs/known_envs/' + env_name + '.env'\n",
    "    else:\n",
    "         env_path = 'envs/random_envs/' + env_name + '.env'\n",
    "    env, info = load_env(env_path)\n",
    "    layout = known_map_configs[env_name]['layout'] if known else None\n",
    "    door_pos = info['door_pos']\n",
    "    key_pos = info[\"key_pos\"]\n",
    "    goal = info['goal_pos']\n",
    "    action_list = [MF, TL, TR, PK, UD]\n",
    "    state_list = []\n",
    "    pos_list = []\n",
    "    f = {}\n",
    "    c = {}\n",
    "    # print(layout)\n",
    "    if known:\n",
    "        for i in range(layout.shape[0]):\n",
    "            ii = i+1\n",
    "            for j in range(layout.shape[1]):\n",
    "                jj = j+1\n",
    "                if layout[i,j] == WALL:\n",
    "                    continue\n",
    "                agent_pos = np.array([jj,ii])\n",
    "                pos_list.append(agent_pos)\n",
    "                for agent_dir in range(4):\n",
    "                    for carrying_key in [False, True]:\n",
    "                        for dooropen in [False, True]:\n",
    "                            state = tuple((tuple(agent_pos), agent_dir, carrying_key, dooropen))\n",
    "                            state_list.append(state)\n",
    "                            f[state] = {}\n",
    "                            c[state] = {}\n",
    "                            for action in action_list:\n",
    "\n",
    "                                env.unwrapped.agent_pos = agent_pos\n",
    "                                env.unwrapped.agent_dir = agent_dir\n",
    "                                if carrying_key :\n",
    "                                    env.unwrapped.grid.set(key_pos[0], key_pos[1], None)\n",
    "                                    env.unwrapped.carrying = Key(color='yellow')\n",
    "                                else: \n",
    "                                    env.unwrapped.grid.set(key_pos[0], key_pos[1], Key('yellow'))\n",
    "                                    env.unwrapped.carrying = None\n",
    "                                if dooropen:\n",
    "                                    env.unwrapped.grid.get(door_pos[0], door_pos[1]).is_open = True\n",
    "                                    env.unwrapped.grid.get(door_pos[0], door_pos[1]).is_locked = False\n",
    "                                else:\n",
    "                                    env.unwrapped.grid.get(door_pos[0], door_pos[1]).is_open = False\n",
    "                                    env.unwrapped.grid.get(door_pos[0], door_pos[1]).is_locked = True\n",
    "\n",
    "\n",
    "                                cost = step(env, action, state, goal)\n",
    "                                state_new = tuple((tuple(env.unwrapped.agent_pos), env.unwrapped.agent_dir , \n",
    "                                                                  isinstance(env.unwrapped.carrying, Key) , env.unwrapped.grid.get(door_pos[0], door_pos[1]).is_open))\n",
    "                                f[state][action] = state_new\n",
    "                                c[state][action] = cost\n",
    "        return c, f, state_list, pos_list, action_list, info\n",
    "\n",
    "# c, f, state_list, pos_list, action_list = make_motion_model('doorkey-6x6-shortcut', known = True)\n",
    "# print(len(f.keys()), len(state_list), len(pos_list))\n",
    "                        \n"
   ]
  },
  {
   "cell_type": "code",
   "execution_count": 5,
   "metadata": {},
   "outputs": [],
   "source": [
    "def dp_known(env_name, known = True):\n",
    "    V = {}\n",
    "    policy = {}\n",
    "\n",
    "    cost, f, state_list, _, action_list, info = make_motion_model(env_name, known = known)\n",
    "    goal = info['goal_pos']\n",
    "    \n",
    "\n",
    "    T = len(state_list) - 1\n",
    "    for t in range(T+1):\n",
    "        V[t] = {}\n",
    "        policy[t] = {}\n",
    "        for state in state_list:\n",
    "            if t == T :\n",
    "                V[t][state] = 2*T\n",
    "            if np.all(state[0] == goal):\n",
    "                V[t][state] = 0\n",
    "    \n",
    "    for t in range(T-1, -1, -1):\n",
    "        for state in state_list:\n",
    "            V_min = np.inf\n",
    "            u_min = 10\n",
    "            for action in action_list:\n",
    "                s_next = f[state][action]\n",
    "                Q = cost[state][action] + V[t+1][s_next]\n",
    "                if Q < V_min:\n",
    "                    V_min = Q\n",
    "                    u_min = action \n",
    "            V[t][state] = V_min\n",
    "            policy[t][state] = u_min \n",
    "            \n",
    "    agent_pos = info['init_agent_pos']\n",
    "    agent_dir = info['init_agent_dir']\n",
    "    carrying_key = False\n",
    "    dooropen = False \n",
    "    state = tuple((tuple(agent_pos), agent_dir, carrying_key, dooropen))\n",
    "    control_seq = []\n",
    "    print(state)\n",
    "    t= 0\n",
    "    while not np.all(agent_pos == goal) and t < T:\n",
    "        optim_action = policy[t][state]\n",
    "        control_seq.append(optim_action)\n",
    "        state = f[state][optim_action]\n",
    "        agent_pos = state[0]\n",
    "        t += 1\n",
    "    \n",
    "    return control_seq"
   ]
  },
  {
   "cell_type": "code",
   "execution_count": 6,
   "metadata": {},
   "outputs": [
    {
     "name": "stdout",
     "output_type": "stream",
     "text": [
      "((2, 1), 3, False, False)\n",
      "[2, 0, 2, 3, 1, 4, 0, 0]\n"
     ]
    },
    {
     "data": {
      "image/png": "[encoded data removed]",
      "text/plain": [
       "<Figure size 640x480 with 1 Axes>"
      ]
     },
     "metadata": {},
     "output_type": "display_data"
    }
   ],
   "source": [
    "#@ One Example Run\n",
    "env_name = 'doorkey-8x8-shortcut'\n",
    "env_path = 'envs/known_envs/doorkey-8x8-shortcut.env'\n",
    "control_seq = dp_known(env_name, known = True)\n",
    "print(control_seq)\n",
    "env, info = load_env(env_path)\n",
    "plot_env(env)\n",
    "goal = info['goal_pos']\n",
    "door_pos = info['door_pos']\n",
    "agent_dir = info['init_agent_dir']\n",
    "agent_pos = info['init_agent_pos']\n",
    "state = tuple((tuple(agent_pos), agent_dir, False, False))\n",
    "# for action in control_seq:\n",
    "    # print(action)\n",
    "    # step(env, action, state, goal)\n",
    "    # state = tuple((tuple(env.unwrapped.agent_pos), env.unwrapped.agent_dir , isinstance(env.unwrapped.carrying, Key) , env.unwrapped.grid.get(door_pos[0], door_pos[1]).is_open))\n",
    "    # plot_env(env)"
   ]
  },
  {
   "cell_type": "code",
   "execution_count": 7,
   "metadata": {},
   "outputs": [],
   "source": [
    "## Running for all\n",
    "dirpath = \"./envs/known_envs\"\n",
    "file_list = os.listdir(dirpath)\n",
    "file_list = [file for file in file_list if file.endswith('env')]\n",
    "file_dict = {}\n",
    "# for file in file_list:\n",
    "#     env_path = os.path.join(dirpath, file)\n",
    "#     env_name = file[:-4]\n",
    "#     print(env_name)\n",
    "#     control_seq = dp_known(env_name, known = True)\n",
    "#     env, info = load_env(env_path)\n",
    "#     print(control_seq)\n",
    "#     plot_env(env)\n",
    "#     draw_gif_from_seq(control_seq, env,  path=\"./gif/\" + env_name + \".gif\")\n",
    "#     file_dict[file] = control_seq\n",
    "#     print('______________________________________')"
   ]
  },
  {
   "cell_type": "markdown",
   "metadata": {},
   "source": [
    "# Part B - Random Environments"
   ]
  },
  {
   "cell_type": "markdown",
   "metadata": {},
   "source": [
    "State =\n",
    "pos\n",
    "dir\n",
    "key_loc\n",
    "dooropen\n",
    "key_pickup\n",
    "goal_loc"
   ]
  },
  {
   "cell_type": "code",
   "execution_count": 10,
   "metadata": {},
   "outputs": [
    {
     "name": "stdout",
     "output_type": "stream",
     "text": [
      "Wall = 4,0\n",
      "Wall = 4,1\n",
      "Wall = 4,3\n",
      "Wall = 4,4\n",
      "Wall = 4,6\n",
      "Wall = 4,7\n",
      "10800\n"
     ]
    }
   ],
   "source": [
    "def make_motion_model_random():\n",
    "    env_name = 'DoorKey-8x8-1'\n",
    "    env_path = './envs/random_envs/' + env_name + '.env'\n",
    "    env, info, _ = load_random_env(env_path)\n",
    "\n",
    "    key_state_list = range(4)\n",
    "    key_loc_list = [(1,1),(2,3),(1,6)]\n",
    "\n",
    "    goal_loc_list = [(5,1),(6,3),(5,6)]\n",
    "    goal_state_list = range(3)\n",
    "    \n",
    "    door_state_list = [(False, False), (False, True), (True, False),(True, True)]\n",
    "    door_loc_list = [(4,2), (4,5)]\n",
    "\n",
    "    action_list = [MF, TL, TR, PK, UD]\n",
    "    state_list = []\n",
    "    pos_list = []\n",
    "    f = {}\n",
    "    c = {}\n",
    "    # print(layout)\n",
    "    width = info['width']\n",
    "    height = info['height']\n",
    "    for i in range(height ):\n",
    "        ii = i\n",
    "        for j in range(width ):\n",
    "            jj = j\n",
    "            agent_pos = np.array([jj,ii])\n",
    "            ## Check for agent overlapping with wall \n",
    "            if isinstance(env.unwrapped.grid.get(jj, ii), Wall):\n",
    "                print(f\"Wall = {jj},{ii}\")\n",
    "                continue\n",
    "            pos_list.append(agent_pos)\n",
    "            for agent_dir in range(4):\n",
    "                for door_state in door_state_list:\n",
    "                    ## Check for agent and door overlap\n",
    "                    if door_state[1] == False:\n",
    "                        if np.all(agent_pos == door_loc_list[1]):\n",
    "                            continue\n",
    "                    if door_state[0] == False :\n",
    "                        if np.all(agent_pos == door_loc_list[0]):\n",
    "                            continue\n",
    "                    for key_state in key_state_list:\n",
    "                        ## Check for agent and key overlap\n",
    "                        if key_state < 3:\n",
    "                            if np.all(agent_pos == key_loc_list[key_state]):\n",
    "                                continue\n",
    "                        for goal_state in goal_state_list:\n",
    "                            state = tuple((tuple(agent_pos), agent_dir, key_state, door_state, goal_state))\n",
    "                            state_list.append(state)\n",
    "                            f[state] = {}\n",
    "                            c[state] = {}\n",
    "                            for action in action_list:\n",
    "\n",
    "                                ### Place key\n",
    "                                for key_loc in key_loc_list:\n",
    "                                    env.unwrapped.grid.set(key_loc[0], key_loc[1], None)\n",
    "                                if key_state < 3:\n",
    "                                    # carrying_key = False\n",
    "                                    key_loc = key_loc_list[key_state]\n",
    "                                    env.unwrapped.grid.set(key_loc[0], key_loc[1], Key('yellow'))\n",
    "                                    env.unwrapped.carrying = None\n",
    "                                else:\n",
    "                                    # carrying_key = True\n",
    "                                    env.unwrapped.carrying = Key('yellow')\n",
    "\n",
    "                                ### Set a goal position\n",
    "                                for goal_loc in goal_loc_list:\n",
    "                                    env.unwrapped.grid.set(goal_loc[0], goal_loc[1], None)\n",
    "                                goal = goal_loc_list[goal_state]\n",
    "                                env.unwrapped.grid.set(goal[0], goal[1], Goal())\n",
    "\n",
    "                                ### Seting up door\n",
    "                                for k in [0,1]:\n",
    "                                    if door_state[k] == False:\n",
    "                                        env.unwrapped.grid.get(door_loc_list[k][0], door_loc_list[k][0]).is_open = False\n",
    "                                        env.unwrapped.grid.get(door_loc_list[k][0], door_loc_list[k][0]).is_locked = True\n",
    "                                    else: \n",
    "                                        env.unwrapped.grid.get(door_loc_list[k][0], door_loc_list[k][0]).is_open = True\n",
    "                                        env.unwrapped.grid.get(door_loc_list[k][0], door_loc_list[k][0]).is_locked = False\n",
    "\n",
    "                                ### Setting up agent pos and dir\n",
    "                                env.unwrapped.agent_pos = agent_pos\n",
    "                                env.unwrapped.agent_dir = agent_dir\n",
    "                                # print('aaaaaaa')\n",
    "                                # print(height)\n",
    "                                # print(width)\n",
    "                                # print(jj)\n",
    "                                # print(ii)\n",
    "                                # print(i)\n",
    "                                # print(j)\n",
    "                                # print(action)\n",
    "                                # print(agent_dir)\n",
    "                                # print(agent_pos)\n",
    "                                # print(env.unwrapped.front_pos)\n",
    "\n",
    "                                cost = step(env, action, state, goal)\n",
    "                                agent_dir_new = env.unwrapped.agent_dir\n",
    "                                agent_pos_new = tuple(env.unwrapped.agent_pos)\n",
    "                                key_state_new = 3 if isinstance(env.unwrapped.carrying, Key) else key_state\n",
    "                                door_state_new = (env.unwrapped.grid.get(door_loc_list[0][0], door_loc_list[0][1]).is_open  , env.unwrapped.grid.get(door_loc_list[1][0], door_loc_list[1][1]).is_open)\n",
    "                                goal_state_new = goal_state\n",
    "                                state_new = tuple((tuple(agent_pos_new), agent_dir_new, key_state_new, door_state_new, goal_state_new))\n",
    "                                \n",
    "                                f[state][action] = state_new\n",
    "                                c[state][action] = cost\n",
    "    return c, f, state_list, pos_list, action_list, info\n",
    "\n",
    "# c, f, state_list, pos_list, action_list = make_motion_model('doorkey-6x6-shortcut', known = True)\n",
    "# print(len(f.keys()), len(state_list), len(pos_list))\n",
    "c, f, state_list, pos_list, action_list, info = make_motion_model_random()\n",
    "print(len(state_list))"
   ]
  },
  {
   "cell_type": "code",
   "execution_count": 12,
   "metadata": {},
   "outputs": [
    {
     "name": "stderr",
     "output_type": "stream",
     "text": [
      "/home/threevc/miniforge3/envs/276BECE/lib/python3.9/site-packages/gymnasium/core.py:311: UserWarning: \u001b[33mWARN: env.grid to get variables from other wrappers is deprecated and will be removed in v1.0, to get this variable you can do `env.unwrapped.grid` for environment variables or `env.get_wrapper_attr('grid')` that will search the reminding wrappers.\u001b[0m\n",
      "  logger.warn(\n"
     ]
    },
    {
     "name": "stdout",
     "output_type": "stream",
     "text": [
      "Wall = 4,0\n",
      "Wall = 4,1\n",
      "Wall = 4,3\n",
      "Wall = 4,4\n",
      "Wall = 4,6\n",
      "Wall = 4,7\n"
     ]
    },
    {
     "data": {
      "image/png": "[encoded data removed]",
      "text/plain": [
       "<Figure size 640x480 with 1 Axes>"
      ]
     },
     "metadata": {},
     "output_type": "display_data"
    },
    {
     "name": "stdout",
     "output_type": "stream",
     "text": [
      "((3, 5), array([ 0, -1]), 0, (True, True), (5, 1))\n"
     ]
    },
    {
     "ename": "TypeError",
     "evalue": "unhashable type: 'numpy.ndarray'",
     "output_type": "error",
     "traceback": [
      "\u001b[0;31m---------------------------------------------------------------------------\u001b[0m",
      "\u001b[0;31mTypeError\u001b[0m                                 Traceback (most recent call last)",
      "Cell \u001b[0;32mIn[12], line 56\u001b[0m\n\u001b[1;32m     54\u001b[0m     \u001b[38;5;28mprint\u001b[39m(control_seq)\n\u001b[1;32m     55\u001b[0m     \u001b[38;5;28;01mreturn\u001b[39;00m control_seq\n\u001b[0;32m---> 56\u001b[0m control_seq \u001b[38;5;241m=\u001b[39m \u001b[43mdp_random\u001b[49m\u001b[43m(\u001b[49m\u001b[38;5;124;43m'\u001b[39;49m\u001b[38;5;124;43mDoorKey-8x8-1\u001b[39;49m\u001b[38;5;124;43m'\u001b[39;49m\u001b[43m)\u001b[49m\n\u001b[1;32m     57\u001b[0m \u001b[38;5;66;03m# env = load_env()\u001b[39;00m\n",
      "Cell \u001b[0;32mIn[12], line 48\u001b[0m, in \u001b[0;36mdp_random\u001b[0;34m(env_name, known)\u001b[0m\n\u001b[1;32m     46\u001b[0m t\u001b[38;5;241m=\u001b[39m \u001b[38;5;241m0\u001b[39m\n\u001b[1;32m     47\u001b[0m \u001b[38;5;28;01mwhile\u001b[39;00m \u001b[38;5;129;01mnot\u001b[39;00m np\u001b[38;5;241m.\u001b[39mall(agent_pos \u001b[38;5;241m==\u001b[39m goal) \u001b[38;5;129;01mand\u001b[39;00m t \u001b[38;5;241m<\u001b[39m T:\n\u001b[0;32m---> 48\u001b[0m     optim_action \u001b[38;5;241m=\u001b[39m \u001b[43mpolicy\u001b[49m\u001b[43m[\u001b[49m\u001b[43mt\u001b[49m\u001b[43m]\u001b[49m\u001b[43m[\u001b[49m\u001b[43mstate\u001b[49m\u001b[43m]\u001b[49m\n\u001b[1;32m     49\u001b[0m     control_seq\u001b[38;5;241m.\u001b[39mappend(optim_action)\n\u001b[1;32m     50\u001b[0m     state \u001b[38;5;241m=\u001b[39m f[state][optim_action]\n",
      "\u001b[0;31mTypeError\u001b[0m: unhashable type: 'numpy.ndarray'"
     ]
    }
   ],
   "source": [
    "def dp_random(env_name):\n",
    "    V = {}\n",
    "    policy = {}\n",
    "\n",
    "    cost, f, state_list, _, action_list, info = make_motion_model_random()\n",
    "    # goal = info['goal_pos']\n",
    "    key_loc_list = [(1,1),(2,3),(1,6)]\n",
    "    env, info, _  = load_random_env('./envs/random_envs/' + env_name + '.env')\n",
    "    plot_env(env)\n",
    "\n",
    "    goal_loc_list = [(5,1),(6,3),(5,6)]\n",
    "\n",
    "    T = len(state_list) - 1\n",
    "    for t in range(T+1):\n",
    "        V[t] = {}\n",
    "        policy[t] = {}\n",
    "        for state in state_list:\n",
    "            goal = goal_loc_list[state[-1]]\n",
    "            if t == T :\n",
    "                V[t][state] = 2*T\n",
    "            if np.all(state[0] == goal):\n",
    "                V[t][state] = 0\n",
    "    \n",
    "    for t in range(T-1, -1, -1):\n",
    "        for state in state_list:\n",
    "            V_min = np.inf\n",
    "            u_min = 10\n",
    "            for action in action_list:\n",
    "                s_next = f[state][action]\n",
    "                Q = cost[state][action] + V[t+1][s_next]\n",
    "                if Q < V_min:\n",
    "                    V_min = Q\n",
    "                    u_min = action \n",
    "            V[t][state] = V_min\n",
    "            policy[t][state] = u_min \n",
    "            \n",
    "    agent_pos = info['init_agent_pos']\n",
    "    agent_dir = info['init_agent_dir']\n",
    "    key_loc = info['key_pos']\n",
    "    carrying_key = key_loc_list.index(tuple(key_loc))\n",
    "    dooropen = tuple(info['door_open'])\n",
    "    goal = tuple(info['goal_pos'])\n",
    "    state = tuple((tuple(agent_pos), agent_dir, carrying_key, dooropen, goal))\n",
    "    control_seq = []\n",
    "    print(state)\n",
    "    t= 0\n",
    "    while not np.all(agent_pos == goal) and t < T:\n",
    "        optim_action = policy[t][state]\n",
    "        control_seq.append(optim_action)\n",
    "        state = f[state][optim_action]\n",
    "        agent_pos = state[0]\n",
    "        t += 1\n",
    "        print(t)\n",
    "    print(control_seq)\n",
    "    return control_seq\n",
    "control_seq = dp_random('DoorKey-8x8-1')\n",
    "# env = load_env()"
   ]
  },
  {
   "cell_type": "code",
   "execution_count": null,
   "metadata": {},
   "outputs": [],
   "source": [
    "env_name = 'DoorKey-8x8-1'\n",
    "env, info, _ = load_random_env('./envs/random_envs/' + env_name + '.env')\n",
    "plot_env(env)\n"
   ]
  },
  {
   "cell_type": "markdown",
   "metadata": {},
   "source": [
    "34 * 4 * 3  * 4 * 4\n",
    "3 * 4 * 3 * 4\n",
    "3 * 4 * 3 * 3 * 4 "
   ]
  },
  {
   "cell_type": "code",
   "execution_count": 10,
   "metadata": {},
   "outputs": [
    {
     "name": "stdout",
     "output_type": "stream",
     "text": [
      "[0, 1, 2, 3, 4, 5, 6, 7]\n"
     ]
    }
   ],
   "source": [
    "print(list(range(8)))"
   ]
  }
 ],
 "metadata": {
  "kernelspec": {
   "display_name": "276BECE",
   "language": "python",
   "name": "python3"
  },
  "language_info": {
   "codemirror_mode": {
    "name": "ipython",
    "version": 3
   },
   "file_extension": ".py",
   "mimetype": "text/x-python",
   "name": "python",
   "nbconvert_exporter": "python",
   "pygments_lexer": "ipython3",
   "version": "3.9.19"
  }
 },
 "nbformat": 4,
 "nbformat_minor": 2
}
